{
 "cells": [
  {
   "cell_type": "code",
   "execution_count": 1,
   "metadata": {},
   "outputs": [],
   "source": [
    "import pandas as pd\n",
    "import numpy as np\n",
    "import matplotlib\n",
    "import matplotlib.pyplot as plt\n",
    "import seaborn as sns"
   ]
  },
  {
   "cell_type": "code",
   "execution_count": 2,
   "metadata": {},
   "outputs": [],
   "source": [
    "sns.set_style('darkgrid')\n",
    "%config InlineBackend.figure_format = 'retina'\n",
    "%matplotlib inline"
   ]
  },
  {
   "cell_type": "code",
   "execution_count": 3,
   "metadata": {},
   "outputs": [],
   "source": [
    "df = pd.read_csv('./train.csv')\n"
   ]
  },
  {
   "cell_type": "code",
   "execution_count": 4,
   "metadata": {},
   "outputs": [],
   "source": [
    "df['Garage Qual'].fillna(0, inplace=True)\n",
    "df['Garage Finish'].fillna(0, inplace=True)\n",
    "df['Garage Yr Blt'].fillna(0, inplace=True)\n",
    "df['Garage Cars'].fillna(0, inplace=True)\n",
    "df['Garage Area'].fillna(0, inplace=True)\n",
    "df['Garage Qual'].fillna(0, inplace=True)\n",
    "df['Garage Cond'].fillna(0, inplace=True)\n",
    "df['Garage Type'].fillna(0, inplace=True)\n",
    "\n",
    "#investigated and all answered na were because there was nothing there"
   ]
  },
  {
   "cell_type": "code",
   "execution_count": 5,
   "metadata": {},
   "outputs": [],
   "source": [
    "def russiancollusion():\n",
    "    for i,y in enumerate(df):\n",
    "        df['MS Zoning'][i] = str(df['MS Zoning'][i])"
   ]
  },
  {
   "cell_type": "code",
   "execution_count": 6,
   "metadata": {},
   "outputs": [
    {
     "name": "stderr",
     "output_type": "stream",
     "text": [
      "C:\\ProgramData\\Anaconda3\\lib\\site-packages\\ipykernel_launcher.py:3: SettingWithCopyWarning: \n",
      "A value is trying to be set on a copy of a slice from a DataFrame\n",
      "\n",
      "See the caveats in the documentation: http://pandas.pydata.org/pandas-docs/stable/indexing.html#indexing-view-versus-copy\n",
      "  This is separate from the ipykernel package so we can avoid doing imports until\n"
     ]
    }
   ],
   "source": [
    "russiancollusion()"
   ]
  },
  {
   "cell_type": "code",
   "execution_count": 7,
   "metadata": {},
   "outputs": [],
   "source": [
    "def russiancollusion():\n",
    "    for i,y in enumerate(df):\n",
    "        df['BsmtFin SF 1'][i] = float(df['BsmtFin SF 1'][i])"
   ]
  },
  {
   "cell_type": "code",
   "execution_count": 8,
   "metadata": {},
   "outputs": [
    {
     "name": "stderr",
     "output_type": "stream",
     "text": [
      "C:\\ProgramData\\Anaconda3\\lib\\site-packages\\ipykernel_launcher.py:3: SettingWithCopyWarning: \n",
      "A value is trying to be set on a copy of a slice from a DataFrame\n",
      "\n",
      "See the caveats in the documentation: http://pandas.pydata.org/pandas-docs/stable/indexing.html#indexing-view-versus-copy\n",
      "  This is separate from the ipykernel package so we can avoid doing imports until\n"
     ]
    }
   ],
   "source": [
    "russiancollusion()"
   ]
  },
  {
   "cell_type": "code",
   "execution_count": 9,
   "metadata": {},
   "outputs": [],
   "source": [
    "def hellofriends():\n",
    "    for i,y in enumerate(df):\n",
    "        if df['Garage Area'][i] == 0: \n",
    "            if df['Garage Cond'][i] != 0:\n",
    "                return df['Garage Area'][i]==df['Garage Area'].median()"
   ]
  },
  {
   "cell_type": "code",
   "execution_count": 10,
   "metadata": {},
   "outputs": [],
   "source": [
    "hellofriends()"
   ]
  },
  {
   "cell_type": "code",
   "execution_count": 11,
   "metadata": {},
   "outputs": [],
   "source": [
    "def hellofriends():\n",
    "    for i,y in enumerate(df):\n",
    "        if df['Garage Area'][i] != 0: \n",
    "            if df['Garage Qual'][i] == 0:\n",
    "                return df['Garage Qual'][i] == df['Garage Qual'].mode()"
   ]
  },
  {
   "cell_type": "code",
   "execution_count": 12,
   "metadata": {},
   "outputs": [],
   "source": [
    "hellofriends()"
   ]
  },
  {
   "cell_type": "code",
   "execution_count": 13,
   "metadata": {},
   "outputs": [],
   "source": [
    "def hellofriends():\n",
    "    for i,y in enumerate(df):\n",
    "        if df['Garage Area'][i] != 0: \n",
    "            if df['Garage Finish'][i] == 0:\n",
    "                return df['Garage Finish'][i]==df['Garage Finish'].mode()"
   ]
  },
  {
   "cell_type": "code",
   "execution_count": 14,
   "metadata": {},
   "outputs": [],
   "source": [
    "hellofriends()"
   ]
  },
  {
   "cell_type": "code",
   "execution_count": 15,
   "metadata": {},
   "outputs": [],
   "source": [
    "def hellofriends():\n",
    "    for i,y in enumerate(df):\n",
    "        if df['Garage Area'][i] != 0: \n",
    "            if df['Garage Yr Blt'][i] == 0:\n",
    "                return df['Garage Yr Blt'][i]== df['Garage Yr Blt'].median()"
   ]
  },
  {
   "cell_type": "code",
   "execution_count": 16,
   "metadata": {},
   "outputs": [],
   "source": [
    "hellofriends()"
   ]
  },
  {
   "cell_type": "code",
   "execution_count": 17,
   "metadata": {},
   "outputs": [],
   "source": [
    "def hellofriends():\n",
    "    for i,y in enumerate(df):\n",
    "        if df['Garage Area'][i] != 0: \n",
    "            if df['Garage Cars'][i] == 0:\n",
    "                return df['Garage Cars'][i]==df['Garage Cars'].median()"
   ]
  },
  {
   "cell_type": "code",
   "execution_count": 18,
   "metadata": {},
   "outputs": [],
   "source": [
    "hellofriends()"
   ]
  },
  {
   "cell_type": "code",
   "execution_count": 19,
   "metadata": {},
   "outputs": [],
   "source": [
    "def hellofriends():\n",
    "    for i,y in enumerate(df):\n",
    "        if df['Garage Area'][i] != 0: \n",
    "            if df['Garage Qual'][i] == 0:\n",
    "                return df['Garage Qual'][i]==df['Garage Qual'][i].mode()"
   ]
  },
  {
   "cell_type": "code",
   "execution_count": 20,
   "metadata": {},
   "outputs": [],
   "source": [
    "hellofriends()"
   ]
  },
  {
   "cell_type": "code",
   "execution_count": 21,
   "metadata": {},
   "outputs": [],
   "source": [
    "def hellofriends():\n",
    "    for i,y in enumerate(df):\n",
    "        if df['Garage Area'][i] != 0: \n",
    "            if df['Garage Cond'][i] == 0:\n",
    "                return df['Garage Cond'][i]== df['Garage Cond'].mode()"
   ]
  },
  {
   "cell_type": "code",
   "execution_count": 22,
   "metadata": {},
   "outputs": [],
   "source": [
    "hellofriends()"
   ]
  },
  {
   "cell_type": "code",
   "execution_count": 23,
   "metadata": {},
   "outputs": [],
   "source": [
    "def hellofriends():\n",
    "    for i,y in enumerate(df):\n",
    "        if df['Garage Area'][i] != 0: \n",
    "            if df['Garage Type'][i] == 0:\n",
    "                return df['Garage Type'][i]==df['Garage Type'].mode()"
   ]
  },
  {
   "cell_type": "code",
   "execution_count": 24,
   "metadata": {},
   "outputs": [],
   "source": [
    "hellofriends()"
   ]
  },
  {
   "cell_type": "code",
   "execution_count": 25,
   "metadata": {},
   "outputs": [],
   "source": [
    "df['Pool Area'].fillna(0, inplace=True)\n",
    "df['Pool QC'].fillna(0, inplace=True)\n",
    "df['Fence'].fillna(0, inplace=True)\n",
    "df['Misc Feature'].fillna(0, inplace=True)\n",
    "df['Alley'].fillna(0, inplace=True)\n",
    "df['Mas Vnr Type'].fillna(0, inplace=True)\n",
    "df['Mas Vnr Area'].fillna(0, inplace=True)\n",
    "\n",
    "#investigated and all answered na were because there was none in place for pool\n"
   ]
  },
  {
   "cell_type": "code",
   "execution_count": 26,
   "metadata": {},
   "outputs": [],
   "source": [
    "def hellofriends():\n",
    "    for i,y in enumerate(df):\n",
    "        if df['Pool Area'][i] != 0: \n",
    "            if df['Pool QC'][i] == 0:\n",
    "                return df['Pool QC'][i]==df['Pool QC'].mode()"
   ]
  },
  {
   "cell_type": "code",
   "execution_count": 27,
   "metadata": {},
   "outputs": [],
   "source": [
    "hellofriends()"
   ]
  },
  {
   "cell_type": "code",
   "execution_count": 28,
   "metadata": {},
   "outputs": [],
   "source": [
    "def hellofriends():\n",
    "    for i,y in enumerate(df):\n",
    "        if df['Mas Vnr Area'][i] != 0: \n",
    "            if df['Mas Vnr Type'][i] == 0:\n",
    "                return df['Mas Vnr Type'][i] == df['Mas Vnr Type'].mode()"
   ]
  },
  {
   "cell_type": "code",
   "execution_count": 29,
   "metadata": {},
   "outputs": [],
   "source": [
    "hellofriends()"
   ]
  },
  {
   "cell_type": "code",
   "execution_count": 30,
   "metadata": {},
   "outputs": [],
   "source": [
    "def hellofriends():\n",
    "    for i,y in enumerate(df):\n",
    "        if df['Fireplaces'][i] != 0: \n",
    "            if df['Fireplace Qu'][i] == 0:\n",
    "                return df['Fireplace Qu'][i] == df['Fireplace Qu'][i].mode()"
   ]
  },
  {
   "cell_type": "code",
   "execution_count": 31,
   "metadata": {},
   "outputs": [],
   "source": [
    "hellofriends()"
   ]
  },
  {
   "cell_type": "code",
   "execution_count": 32,
   "metadata": {},
   "outputs": [
    {
     "data": {
      "text/plain": [
       "array(['BrkFace', 'None', 0, 'Stone', 'BrkCmn'], dtype=object)"
      ]
     },
     "execution_count": 32,
     "metadata": {},
     "output_type": "execute_result"
    }
   ],
   "source": [
    "df['Mas Vnr Type'].unique()"
   ]
  },
  {
   "cell_type": "code",
   "execution_count": 33,
   "metadata": {},
   "outputs": [],
   "source": [
    "df['Lot Frontage'].fillna(0, inplace=True)\n",
    "df['Fireplace Qu'].fillna(0, inplace=True)\n",
    "#verified and answered na were because there were none in place"
   ]
  },
  {
   "cell_type": "code",
   "execution_count": 34,
   "metadata": {},
   "outputs": [
    {
     "data": {
      "text/plain": [
       "array(['WD ', 'New', 'COD', 'ConLD', 'Con', 'CWD', 'Oth', 'ConLI',\n",
       "       'ConLw'], dtype=object)"
      ]
     },
     "execution_count": 34,
     "metadata": {},
     "output_type": "execute_result"
    }
   ],
   "source": [
    "df['Sale Type'].unique()"
   ]
  },
  {
   "cell_type": "code",
   "execution_count": 35,
   "metadata": {},
   "outputs": [],
   "source": [
    "def hellofriends():\n",
    "    for i,y in enumerate(df):\n",
    "        if df['BsmtFin SF 1'][i] != 0: \n",
    "            if df['Bsmt Cond'][i] == 0: \n",
    "                return df['Bsmt Cond'][i] == df['Bsmt Cond'].mode()\n",
    "            #print(df['BsmtFin SF 1'][i], df['Lot Frontage'][i])"
   ]
  },
  {
   "cell_type": "code",
   "execution_count": 36,
   "metadata": {},
   "outputs": [],
   "source": [
    "hellofriends()"
   ]
  },
  {
   "cell_type": "code",
   "execution_count": 37,
   "metadata": {},
   "outputs": [],
   "source": [
    "def hellofriends():\n",
    "    for i,y in enumerate(df):\n",
    "        if df['BsmtFin SF 1'][i] != 0: \n",
    "            if df['Bsmt Exposure'][i] == 0: \n",
    "                return df['Bsmt Exposure'][i] == df['Bsmt Exposure'].mode()\n",
    "                #return df['Exposure'].median()"
   ]
  },
  {
   "cell_type": "code",
   "execution_count": 38,
   "metadata": {},
   "outputs": [],
   "source": [
    "hellofriends()"
   ]
  },
  {
   "cell_type": "code",
   "execution_count": 39,
   "metadata": {},
   "outputs": [],
   "source": [
    "def hellofriends():\n",
    "    for i,y in enumerate(df):\n",
    "        if df['BsmtFin SF 1'][i] != 0: \n",
    "            if df['BsmtFin Type 1'][i] == 0: \n",
    "                return df['Bsmt Type 1'][i] == df['Bsmt Exposure'][i].mode()"
   ]
  },
  {
   "cell_type": "code",
   "execution_count": 40,
   "metadata": {},
   "outputs": [],
   "source": [
    "hellofriends()"
   ]
  },
  {
   "cell_type": "code",
   "execution_count": 41,
   "metadata": {},
   "outputs": [],
   "source": [
    "def hellofriends():\n",
    "    for i,y in enumerate(df):\n",
    "        if df['BsmtFin SF 1'][i] != 0: \n",
    "            if df['BsmtFin Type 2'][i] == 0:\n",
    "                return df['Bsmt Type 2'][i] == df['Bsmt Type 2'].mode()"
   ]
  },
  {
   "cell_type": "code",
   "execution_count": 42,
   "metadata": {},
   "outputs": [],
   "source": [
    "hellofriends()"
   ]
  },
  {
   "cell_type": "code",
   "execution_count": 43,
   "metadata": {},
   "outputs": [],
   "source": [
    "def hellofriends():\n",
    "    for i,y in enumerate(df):\n",
    "        if df['BsmtFin SF 1'][i] != 0: \n",
    "            if df['Bsmt Unf SF'][i] == 0:\n",
    "                return df['Bsmt Unf SF'][i]==df['Bsmt Unf SF'].median()\n",
    "                "
   ]
  },
  {
   "cell_type": "code",
   "execution_count": 44,
   "metadata": {},
   "outputs": [
    {
     "data": {
      "text/plain": [
       "False"
      ]
     },
     "execution_count": 44,
     "metadata": {},
     "output_type": "execute_result"
    }
   ],
   "source": [
    "hellofriends()"
   ]
  },
  {
   "cell_type": "code",
   "execution_count": 45,
   "metadata": {},
   "outputs": [],
   "source": [
    "def hellofriends():\n",
    "    for i,y in enumerate(df):\n",
    "        if df['BsmtFin SF 1'][i] == 0: \n",
    "            if df['Bsmt Unf SF'][i] != 0:\n",
    "                return df['BsmtFin SF 1'][i] == df['BsmtFin SF 1'].median()"
   ]
  },
  {
   "cell_type": "code",
   "execution_count": 46,
   "metadata": {},
   "outputs": [
    {
     "data": {
      "text/plain": [
       "False"
      ]
     },
     "execution_count": 46,
     "metadata": {},
     "output_type": "execute_result"
    }
   ],
   "source": [
    "hellofriends()"
   ]
  },
  {
   "cell_type": "code",
   "execution_count": 47,
   "metadata": {},
   "outputs": [],
   "source": [
    "def hellofriends():\n",
    "    for i,y in enumerate(df):\n",
    "        if df['BsmtFin SF 1'][i] != 0: \n",
    "            if df['Total Bsmt SF'][i] == 0:\n",
    "                return df['Total Bsmt Sf'].median()"
   ]
  },
  {
   "cell_type": "code",
   "execution_count": 48,
   "metadata": {},
   "outputs": [],
   "source": [
    "hellofriends()"
   ]
  },
  {
   "cell_type": "code",
   "execution_count": 49,
   "metadata": {},
   "outputs": [
    {
     "name": "stdout",
     "output_type": "stream",
     "text": [
      "Using matplotlib backend: Qt5Agg\n"
     ]
    }
   ],
   "source": [
    "import sklearn.metrics as metrics\n",
    "import sklearn.linear_model as linear_model\n",
    "import pandas as pd\n",
    "\n",
    "from matplotlib.pyplot import *\n",
    "from sklearn.linear_model import LinearRegression\n",
    "\n",
    "\n",
    "%matplotlib"
   ]
  },
  {
   "cell_type": "code",
   "execution_count": 50,
   "metadata": {},
   "outputs": [
    {
     "name": "stdout",
     "output_type": "stream",
     "text": [
      "Using matplotlib backend: Qt5Agg\n"
     ]
    }
   ],
   "source": [
    "import sklearn.metrics as metrics\n",
    "import sklearn.linear_model as linear_model\n",
    "import pandas as pd\n",
    "\n",
    "from matplotlib.pyplot import *\n",
    "\n",
    "\n",
    "%matplotlib\n",
    "\n",
    "from sklearn.linear_model import LinearRegression\n",
    "\n",
    "model = LinearRegression()"
   ]
  },
  {
   "cell_type": "code",
   "execution_count": 51,
   "metadata": {},
   "outputs": [],
   "source": [
    "import pandas as pd\n",
    "import numpy as np\n",
    "import seaborn as sns\n",
    "from sklearn.linear_model import LinearRegression\n",
    "from sklearn.metrics import r2_score\n",
    "from sklearn.model_selection import train_test_split, KFold, cross_val_score\n",
    "\n",
    "%matplotlib inline"
   ]
  },
  {
   "cell_type": "code",
   "execution_count": 52,
   "metadata": {},
   "outputs": [],
   "source": [
    "df2 = pd.read_csv('./test.csv')\n"
   ]
  },
  {
   "cell_type": "code",
   "execution_count": 53,
   "metadata": {},
   "outputs": [],
   "source": [
    "df2['Garage Qual'].fillna(0, inplace=True)\n",
    "df2['Garage Finish'].fillna(0, inplace=True)\n",
    "df2['Garage Yr Blt'].fillna(0, inplace=True)\n",
    "df2['Garage Cars'].fillna(0, inplace=True)\n",
    "df2['Garage Area'].fillna(0, inplace=True)\n",
    "df2['Garage Qual'].fillna(0, inplace=True)\n",
    "df2['Garage Cond'].fillna(0, inplace=True)\n",
    "df2['Garage Type'].fillna(0, inplace=True)"
   ]
  },
  {
   "cell_type": "code",
   "execution_count": 54,
   "metadata": {},
   "outputs": [],
   "source": [
    "def russiancollusion():\n",
    "    for i,y in enumerate(df2):\n",
    "        df2['MS SubClass'][i] = str(df2['MS SubClass'][i])"
   ]
  },
  {
   "cell_type": "code",
   "execution_count": 55,
   "metadata": {},
   "outputs": [
    {
     "name": "stderr",
     "output_type": "stream",
     "text": [
      "C:\\ProgramData\\Anaconda3\\lib\\site-packages\\ipykernel_launcher.py:3: SettingWithCopyWarning: \n",
      "A value is trying to be set on a copy of a slice from a DataFrame\n",
      "\n",
      "See the caveats in the documentation: http://pandas.pydata.org/pandas-docs/stable/indexing.html#indexing-view-versus-copy\n",
      "  This is separate from the ipykernel package so we can avoid doing imports until\n"
     ]
    }
   ],
   "source": [
    "russiancollusion()"
   ]
  },
  {
   "cell_type": "code",
   "execution_count": 56,
   "metadata": {},
   "outputs": [],
   "source": [
    "def russiancollusion():\n",
    "    for i,y in enumerate(df2):\n",
    "        df2['BsmtFin SF 1'][i] = float(df2['BsmtFin SF 1'][i])"
   ]
  },
  {
   "cell_type": "code",
   "execution_count": 57,
   "metadata": {},
   "outputs": [
    {
     "name": "stderr",
     "output_type": "stream",
     "text": [
      "C:\\ProgramData\\Anaconda3\\lib\\site-packages\\ipykernel_launcher.py:3: SettingWithCopyWarning: \n",
      "A value is trying to be set on a copy of a slice from a DataFrame\n",
      "\n",
      "See the caveats in the documentation: http://pandas.pydata.org/pandas-docs/stable/indexing.html#indexing-view-versus-copy\n",
      "  This is separate from the ipykernel package so we can avoid doing imports until\n"
     ]
    }
   ],
   "source": [
    "russiancollusion()"
   ]
  },
  {
   "cell_type": "code",
   "execution_count": 58,
   "metadata": {},
   "outputs": [],
   "source": [
    "def hellofriends():\n",
    "    for i,y in enumerate(df2):\n",
    "        if df2['Garage Area'][i] == 0: \n",
    "            if df2['Garage Cond'][i] != 0:\n",
    "                return df2['Garage Area'][i]==df2['Garage Area'].median()"
   ]
  },
  {
   "cell_type": "code",
   "execution_count": 59,
   "metadata": {},
   "outputs": [],
   "source": [
    "hellofriends()"
   ]
  },
  {
   "cell_type": "code",
   "execution_count": 60,
   "metadata": {},
   "outputs": [],
   "source": [
    "def hellofriends():\n",
    "    for i,y in enumerate(df2):\n",
    "        if df2['Garage Area'][i] != 0: \n",
    "            if df2['Garage Qual'][i] == 0:\n",
    "                return df2['Garage Qual'][i]==df2['Garage Qual'].mode()"
   ]
  },
  {
   "cell_type": "code",
   "execution_count": 61,
   "metadata": {},
   "outputs": [],
   "source": [
    "hellofriends()"
   ]
  },
  {
   "cell_type": "code",
   "execution_count": 62,
   "metadata": {},
   "outputs": [],
   "source": [
    "def hellofriends():\n",
    "    for i,y in enumerate(df2):\n",
    "        if df2['Garage Area'][i] != 0: \n",
    "            if df2['Garage Finish'][i] == 0:\n",
    "                return df2['Garage Finish'][i]==df2['Garage Finish'].mode()"
   ]
  },
  {
   "cell_type": "code",
   "execution_count": 63,
   "metadata": {},
   "outputs": [],
   "source": [
    "hellofriends()"
   ]
  },
  {
   "cell_type": "code",
   "execution_count": 64,
   "metadata": {},
   "outputs": [],
   "source": [
    "def hellofriends():\n",
    "    for i,y in enumerate(df2):\n",
    "        if df2['Garage Area'][i] != 0: \n",
    "            if df2['Garage Yr Blt'][i] == 0:\n",
    "                return df2['Garage Yr Blt'][i]==df2['Garage Yr Blt'].median()"
   ]
  },
  {
   "cell_type": "code",
   "execution_count": 65,
   "metadata": {},
   "outputs": [],
   "source": [
    "hellofriends()"
   ]
  },
  {
   "cell_type": "code",
   "execution_count": 66,
   "metadata": {},
   "outputs": [],
   "source": [
    "def hellofriends():\n",
    "    for i,y in enumerate(df2):\n",
    "        if df2['Garage Area'][i] != 0: \n",
    "            if df2['Garage Cars'][i] == 0:\n",
    "                return df2['Garage Cars'][i]==df2['Garage Cars'].median()"
   ]
  },
  {
   "cell_type": "code",
   "execution_count": 67,
   "metadata": {},
   "outputs": [],
   "source": [
    "hellofriends()"
   ]
  },
  {
   "cell_type": "code",
   "execution_count": 68,
   "metadata": {},
   "outputs": [],
   "source": [
    "def hellofriends():\n",
    "    for i,y in enumerate(df2):\n",
    "        if df2['Garage Area'][i] != 0: \n",
    "            if df2['Garage Qual'][i] == 0:\n",
    "                return df2['Garage Qual'][i]==df2['Garage Qual'].mode()"
   ]
  },
  {
   "cell_type": "code",
   "execution_count": 69,
   "metadata": {},
   "outputs": [],
   "source": [
    "hellofriends()"
   ]
  },
  {
   "cell_type": "code",
   "execution_count": 70,
   "metadata": {},
   "outputs": [],
   "source": [
    "def hellofriends():\n",
    "    for i,y in enumerate(df2):\n",
    "        if df2['Garage Area'][i] != 0: \n",
    "            if df2['Garage Cond'][i] == 0:\n",
    "                return df2['Garage Cond'][i]==df2['Garage Cond'].mode()"
   ]
  },
  {
   "cell_type": "code",
   "execution_count": 71,
   "metadata": {},
   "outputs": [],
   "source": [
    "hellofriends()"
   ]
  },
  {
   "cell_type": "code",
   "execution_count": 72,
   "metadata": {},
   "outputs": [],
   "source": [
    "def hellofriends():\n",
    "    for i,y in enumerate(df2):\n",
    "        if df2['Garage Area'][i] != 0: \n",
    "            if df2['Garage Type'][i] == 0:\n",
    "                return df2['Garage Type'][i]==df2['Garage Type'].mode()"
   ]
  },
  {
   "cell_type": "code",
   "execution_count": 73,
   "metadata": {},
   "outputs": [],
   "source": [
    "hellofriends()"
   ]
  },
  {
   "cell_type": "code",
   "execution_count": 74,
   "metadata": {},
   "outputs": [],
   "source": [
    "df2['Pool Area'].fillna(0, inplace=True)\n",
    "df2['Pool QC'].fillna(0, inplace=True)\n",
    "df2['Fence'].fillna(0, inplace=True)\n",
    "df2['Misc Feature'].fillna(0, inplace=True)\n",
    "df2['Alley'].fillna(0, inplace=True)\n",
    "df2['Mas Vnr Type'].fillna(0, inplace=True)\n",
    "df2['Mas Vnr Area'].fillna(0, inplace=True)"
   ]
  },
  {
   "cell_type": "code",
   "execution_count": 75,
   "metadata": {},
   "outputs": [],
   "source": [
    "def hellofriends():\n",
    "    for i,y in enumerate(df2):\n",
    "        if df2['Pool Area'][i] != 0: \n",
    "            if df2['Pool QC'][i] == 0:\n",
    "                return df2['Pool QC'][i]==df2['Pool QC'].mode()"
   ]
  },
  {
   "cell_type": "code",
   "execution_count": 76,
   "metadata": {},
   "outputs": [],
   "source": [
    "hellofriends()"
   ]
  },
  {
   "cell_type": "code",
   "execution_count": 77,
   "metadata": {},
   "outputs": [],
   "source": [
    "def hellofriends():\n",
    "    for i,y in enumerate(df2):\n",
    "        if df2['Mas Vnr Area'][i] != 0: \n",
    "            if df2['Mas Vnr Type'][i] == 0:\n",
    "                return df2['Mas Vnr Type'][i]==df2['Mas Vnr Type'].mode()"
   ]
  },
  {
   "cell_type": "code",
   "execution_count": 78,
   "metadata": {},
   "outputs": [],
   "source": [
    "hellofriends()"
   ]
  },
  {
   "cell_type": "code",
   "execution_count": 79,
   "metadata": {},
   "outputs": [],
   "source": [
    "df2['Lot Frontage'].fillna(0, inplace=True)\n",
    "df2['Fireplace Qu'].fillna(0, inplace=True)"
   ]
  },
  {
   "cell_type": "code",
   "execution_count": 80,
   "metadata": {},
   "outputs": [],
   "source": [
    "def hellofriends():\n",
    "    for i,y in enumerate(df2):\n",
    "        if df2['Fireplaces'][i] != 0: \n",
    "            if df2['Fireplace Qu'][i] == 0:\n",
    "                return df2['Fireplace Qu'][i]==df2['Fireplace Qu'].mode()"
   ]
  },
  {
   "cell_type": "code",
   "execution_count": 81,
   "metadata": {},
   "outputs": [],
   "source": [
    "hellofriends()"
   ]
  },
  {
   "cell_type": "code",
   "execution_count": null,
   "metadata": {},
   "outputs": [],
   "source": [
    "Bsmt Unf Sf'"
   ]
  },
  {
   "cell_type": "code",
   "execution_count": 102,
   "metadata": {},
   "outputs": [],
   "source": [
    "target = 'SalePrice'\n",
    "nc = ['MS SubClass', 'Lot Frontage', 'Lot Area', 'Overall Qual', 'Overall Cond', 'Year Built', 'Year Remod/Add', 'Mas Vnr Area', 'BsmtFin SF 1', 'BsmtFin SF 2', 'Total Bsmt SF', 'Bsmt Unf SF', '1st Flr SF', '2nd Flr SF', 'Low Qual Fin SF', 'Gr Liv Area', 'Bsmt Full Bath', 'Bsmt Half Bath', 'Full Bath', 'Half Bath', 'Bedroom AbvGr', 'Kitchen AbvGr', 'TotRms AbvGrd', 'Fireplaces', 'Garage Yr Blt', 'Garage Cars', 'Garage Area', 'Wood Deck SF', 'Open Porch SF', 'Enclosed Porch', '3Ssn Porch', 'Screen Porch']\n",
    "\n",
    "X = df[nc]\n",
    "y = df[target]"
   ]
  },
  {
   "cell_type": "code",
   "execution_count": 106,
   "metadata": {},
   "outputs": [],
   "source": [
    "df[nc] = (df[nc]-df[nc].mean())/df[nc].std()"
   ]
  },
  {
   "cell_type": "code",
   "execution_count": 127,
   "metadata": {},
   "outputs": [
    {
     "data": {
      "text/plain": [
       "MS SubClass       -1.064077e-16\n",
       "Lot Frontage       1.047431e-17\n",
       "Lot Area           7.269769e-17\n",
       "Overall Qual       2.125717e-16\n",
       "Overall Cond       3.074630e-16\n",
       "Year Built        -9.601183e-16\n",
       "Year Remod/Add     3.704551e-15\n",
       "Mas Vnr Area      -1.088029e-16\n",
       "BsmtFin SF 1       5.513205e-17\n",
       "BsmtFin SF 2       3.389159e-16\n",
       "Total Bsmt SF     -7.248944e-17\n",
       "Bsmt Unf SF       -2.534558e-17\n",
       "1st Flr SF         1.001149e-16\n",
       "2nd Flr SF         3.580212e-16\n",
       "Low Qual Fin SF   -3.346232e-16\n",
       "Gr Liv Area       -1.948709e-17\n",
       "Bsmt Full Bath    -2.314726e-16\n",
       "Bsmt Half Bath    -3.129648e-16\n",
       "Full Bath          7.601590e-16\n",
       "Half Bath         -2.892751e-16\n",
       "Bedroom AbvGr     -2.533593e-16\n",
       "Kitchen AbvGr     -5.999318e-16\n",
       "TotRms AbvGrd     -1.983082e-16\n",
       "Fireplaces         3.132009e-16\n",
       "Garage Yr Blt     -1.055551e-17\n",
       "Garage Cars        2.393665e-16\n",
       "Garage Area       -8.154807e-17\n",
       "Wood Deck SF       1.367615e-16\n",
       "Open Porch SF      3.518503e-19\n",
       "Enclosed Porch    -1.143676e-15\n",
       "3Ssn Porch        -1.849244e-16\n",
       "Screen Porch      -3.463831e-16\n",
       "dtype: float64"
      ]
     },
     "execution_count": 127,
     "metadata": {},
     "output_type": "execute_result"
    }
   ],
   "source": [
    "df[nc].mean()"
   ]
  },
  {
   "cell_type": "code",
   "execution_count": 126,
   "metadata": {},
   "outputs": [],
   "source": [
    "X = df[nc]\n",
    "y = df[target]"
   ]
  },
  {
   "cell_type": "code",
   "execution_count": 110,
   "metadata": {},
   "outputs": [],
   "source": [
    "from sklearn.linear_model import ElasticNet"
   ]
  },
  {
   "cell_type": "code",
   "execution_count": 111,
   "metadata": {},
   "outputs": [],
   "source": [
    "def elasticnet_coefs(X, y, alphas):\n",
    "    coefs = []\n",
    "    enet_reg = ElasticNet()\n",
    "    for a in alphas:\n",
    "        enet_reg.set_params(alpha=a, l1_ratio=0.05)\n",
    "        enet_reg.fit(X, y)\n",
    "        coefs.append(enet_reg.coef_)\n",
    "        \n",
    "    return coefs"
   ]
  },
  {
   "cell_type": "code",
   "execution_count": 119,
   "metadata": {},
   "outputs": [],
   "source": [
    "from sklearn.linear_model import ElasticNet, ElasticNetCV"
   ]
  },
  {
   "cell_type": "code",
   "execution_count": 121,
   "metadata": {
    "scrolled": true
   },
   "outputs": [],
   "source": [
    "enet_alphas = np.arange(0.5, 1.0, 0.005)\n",
    "enet_ratio = 0.5\n",
    "enet_model = ElasticNetCV(alphas=enet_alphas, l1_ratio=enet_ratio, cv=5)\n",
    "#enet_model = enet_model.fit(X, y)"
   ]
  },
  {
   "cell_type": "code",
   "execution_count": 124,
   "metadata": {
    "scrolled": true
   },
   "outputs": [
    {
     "ename": "ValueError",
     "evalue": "Input contains NaN, infinity or a value too large for dtype('float64').",
     "output_type": "error",
     "traceback": [
      "\u001b[1;31m---------------------------------------------------------------------------\u001b[0m",
      "\u001b[1;31mValueError\u001b[0m                                Traceback (most recent call last)",
      "\u001b[1;32m<ipython-input-124-ecc5cdb37581>\u001b[0m in \u001b[0;36m<module>\u001b[1;34m()\u001b[0m\n\u001b[1;32m----> 1\u001b[1;33m \u001b[0menet_model\u001b[0m\u001b[1;33m.\u001b[0m\u001b[0mfit\u001b[0m\u001b[1;33m(\u001b[0m\u001b[0mX\u001b[0m\u001b[1;33m,\u001b[0m \u001b[0my\u001b[0m\u001b[1;33m)\u001b[0m\u001b[1;33m\u001b[0m\u001b[0m\n\u001b[0m",
      "\u001b[1;32mC:\\ProgramData\\Anaconda3\\lib\\site-packages\\sklearn\\linear_model\\coordinate_descent.py\u001b[0m in \u001b[0;36mfit\u001b[1;34m(self, X, y)\u001b[0m\n\u001b[0;32m   1132\u001b[0m         \u001b[1;32melse\u001b[0m\u001b[1;33m:\u001b[0m\u001b[1;33m\u001b[0m\u001b[0m\n\u001b[0;32m   1133\u001b[0m             X = check_array(X, 'csc', dtype=[np.float64, np.float32],\n\u001b[1;32m-> 1134\u001b[1;33m                             order='F', copy=copy_X)\n\u001b[0m\u001b[0;32m   1135\u001b[0m             \u001b[0mcopy_X\u001b[0m \u001b[1;33m=\u001b[0m \u001b[1;32mFalse\u001b[0m\u001b[1;33m\u001b[0m\u001b[0m\n\u001b[0;32m   1136\u001b[0m \u001b[1;33m\u001b[0m\u001b[0m\n",
      "\u001b[1;32mC:\\ProgramData\\Anaconda3\\lib\\site-packages\\sklearn\\utils\\validation.py\u001b[0m in \u001b[0;36mcheck_array\u001b[1;34m(array, accept_sparse, dtype, order, copy, force_all_finite, ensure_2d, allow_nd, ensure_min_samples, ensure_min_features, warn_on_dtype, estimator)\u001b[0m\n\u001b[0;32m    451\u001b[0m                              % (array.ndim, estimator_name))\n\u001b[0;32m    452\u001b[0m         \u001b[1;32mif\u001b[0m \u001b[0mforce_all_finite\u001b[0m\u001b[1;33m:\u001b[0m\u001b[1;33m\u001b[0m\u001b[0m\n\u001b[1;32m--> 453\u001b[1;33m             \u001b[0m_assert_all_finite\u001b[0m\u001b[1;33m(\u001b[0m\u001b[0marray\u001b[0m\u001b[1;33m)\u001b[0m\u001b[1;33m\u001b[0m\u001b[0m\n\u001b[0m\u001b[0;32m    454\u001b[0m \u001b[1;33m\u001b[0m\u001b[0m\n\u001b[0;32m    455\u001b[0m     \u001b[0mshape_repr\u001b[0m \u001b[1;33m=\u001b[0m \u001b[0m_shape_repr\u001b[0m\u001b[1;33m(\u001b[0m\u001b[0marray\u001b[0m\u001b[1;33m.\u001b[0m\u001b[0mshape\u001b[0m\u001b[1;33m)\u001b[0m\u001b[1;33m\u001b[0m\u001b[0m\n",
      "\u001b[1;32mC:\\ProgramData\\Anaconda3\\lib\\site-packages\\sklearn\\utils\\validation.py\u001b[0m in \u001b[0;36m_assert_all_finite\u001b[1;34m(X)\u001b[0m\n\u001b[0;32m     42\u001b[0m             and not np.isfinite(X).all()):\n\u001b[0;32m     43\u001b[0m         raise ValueError(\"Input contains NaN, infinity\"\n\u001b[1;32m---> 44\u001b[1;33m                          \" or a value too large for %r.\" % X.dtype)\n\u001b[0m\u001b[0;32m     45\u001b[0m \u001b[1;33m\u001b[0m\u001b[0m\n\u001b[0;32m     46\u001b[0m \u001b[1;33m\u001b[0m\u001b[0m\n",
      "\u001b[1;31mValueError\u001b[0m: Input contains NaN, infinity or a value too large for dtype('float64')."
     ]
    }
   ],
   "source": [
    "enet_model.fit(X, y)"
   ]
  },
  {
   "cell_type": "code",
   "execution_count": null,
   "metadata": {},
   "outputs": [],
   "source": []
  },
  {
   "cell_type": "code",
   "execution_count": 128,
   "metadata": {
    "scrolled": true
   },
   "outputs": [
    {
     "name": "stdout",
     "output_type": "stream",
     "text": [
      "<class 'pandas.core.frame.DataFrame'>\n",
      "RangeIndex: 2051 entries, 0 to 2050\n",
      "Data columns (total 81 columns):\n",
      "Id                 2051 non-null int64\n",
      "PID                2051 non-null int64\n",
      "MS SubClass        2051 non-null float64\n",
      "MS Zoning          2051 non-null object\n",
      "Lot Frontage       2051 non-null float64\n",
      "Lot Area           2051 non-null float64\n",
      "Street             2051 non-null object\n",
      "Alley              2051 non-null object\n",
      "Lot Shape          2051 non-null object\n",
      "Land Contour       2051 non-null object\n",
      "Utilities          2051 non-null object\n",
      "Lot Config         2051 non-null object\n",
      "Land Slope         2051 non-null object\n",
      "Neighborhood       2051 non-null object\n",
      "Condition 1        2051 non-null object\n",
      "Condition 2        2051 non-null object\n",
      "Bldg Type          2051 non-null object\n",
      "House Style        2051 non-null object\n",
      "Overall Qual       2051 non-null float64\n",
      "Overall Cond       2051 non-null float64\n",
      "Year Built         2051 non-null float64\n",
      "Year Remod/Add     2051 non-null float64\n",
      "Roof Style         2051 non-null object\n",
      "Roof Matl          2051 non-null object\n",
      "Exterior 1st       2051 non-null object\n",
      "Exterior 2nd       2051 non-null object\n",
      "Mas Vnr Type       2051 non-null object\n",
      "Mas Vnr Area       2051 non-null float64\n",
      "Exter Qual         2051 non-null object\n",
      "Exter Cond         2051 non-null object\n",
      "Foundation         2051 non-null object\n",
      "Bsmt Qual          1996 non-null object\n",
      "Bsmt Cond          1996 non-null object\n",
      "Bsmt Exposure      1993 non-null object\n",
      "BsmtFin Type 1     1996 non-null object\n",
      "BsmtFin SF 1       2050 non-null float64\n",
      "BsmtFin Type 2     1995 non-null object\n",
      "BsmtFin SF 2       2050 non-null float64\n",
      "Bsmt Unf SF        2050 non-null float64\n",
      "Total Bsmt SF      2050 non-null float64\n",
      "Heating            2051 non-null object\n",
      "Heating QC         2051 non-null object\n",
      "Central Air        2051 non-null object\n",
      "Electrical         2051 non-null object\n",
      "1st Flr SF         2051 non-null float64\n",
      "2nd Flr SF         2051 non-null float64\n",
      "Low Qual Fin SF    2051 non-null float64\n",
      "Gr Liv Area        2051 non-null float64\n",
      "Bsmt Full Bath     2049 non-null float64\n",
      "Bsmt Half Bath     2049 non-null float64\n",
      "Full Bath          2051 non-null float64\n",
      "Half Bath          2051 non-null float64\n",
      "Bedroom AbvGr      2051 non-null float64\n",
      "Kitchen AbvGr      2051 non-null float64\n",
      "Kitchen Qual       2051 non-null object\n",
      "TotRms AbvGrd      2051 non-null float64\n",
      "Functional         2051 non-null object\n",
      "Fireplaces         2051 non-null float64\n",
      "Fireplace Qu       2051 non-null object\n",
      "Garage Type        2051 non-null object\n",
      "Garage Yr Blt      2051 non-null float64\n",
      "Garage Finish      2051 non-null object\n",
      "Garage Cars        2051 non-null float64\n",
      "Garage Area        2051 non-null float64\n",
      "Garage Qual        2051 non-null object\n",
      "Garage Cond        2051 non-null object\n",
      "Paved Drive        2051 non-null object\n",
      "Wood Deck SF       2051 non-null float64\n",
      "Open Porch SF      2051 non-null float64\n",
      "Enclosed Porch     2051 non-null float64\n",
      "3Ssn Porch         2051 non-null float64\n",
      "Screen Porch       2051 non-null float64\n",
      "Pool Area          2051 non-null int64\n",
      "Pool QC            2051 non-null object\n",
      "Fence              2051 non-null object\n",
      "Misc Feature       2051 non-null object\n",
      "Misc Val           2051 non-null int64\n",
      "Mo Sold            2051 non-null int64\n",
      "Yr Sold            2051 non-null int64\n",
      "Sale Type          2051 non-null object\n",
      "SalePrice          2051 non-null int64\n",
      "dtypes: float64(32), int64(7), object(42)\n",
      "memory usage: 1.3+ MB\n"
     ]
    }
   ],
   "source": [
    "df.info()"
   ]
  },
  {
   "cell_type": "code",
   "execution_count": null,
   "metadata": {},
   "outputs": [],
   "source": []
  },
  {
   "cell_type": "code",
   "execution_count": null,
   "metadata": {},
   "outputs": [],
   "source": []
  },
  {
   "cell_type": "code",
   "execution_count": null,
   "metadata": {},
   "outputs": [],
   "source": []
  },
  {
   "cell_type": "code",
   "execution_count": null,
   "metadata": {},
   "outputs": [],
   "source": []
  }
 ],
 "metadata": {
  "kernelspec": {
   "display_name": "Python 3",
   "language": "python",
   "name": "python3"
  },
  "language_info": {
   "codemirror_mode": {
    "name": "ipython",
    "version": 3
   },
   "file_extension": ".py",
   "mimetype": "text/x-python",
   "name": "python",
   "nbconvert_exporter": "python",
   "pygments_lexer": "ipython3",
   "version": "3.6.5"
  }
 },
 "nbformat": 4,
 "nbformat_minor": 2
}
